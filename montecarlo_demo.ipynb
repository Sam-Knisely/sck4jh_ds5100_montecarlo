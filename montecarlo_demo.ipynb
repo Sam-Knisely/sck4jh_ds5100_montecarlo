{
 "cells": [
  {
   "cell_type": "markdown",
   "id": "45762487-d33f-486d-8e38-2cdea04e3528",
   "metadata": {},
   "source": [
    "# Final Project Report\n",
    "\n",
    "* Class: DS 5100\n",
    "* Student Name: Sam Knisely\n",
    "* Student Net ID: sck4jh\n",
    "* This URL: https://github.com/Sam-Knisely/sck4jh_ds5100_montecarlo/blob/main/montecarlo_demo.ipynb"
   ]
  },
  {
   "cell_type": "markdown",
   "id": "acf756c1-ecaa-41dc-b6ca-d566eb94560b",
   "metadata": {},
   "source": [
    "# Instructions\n",
    "\n",
    "Follow the instructions in the [Final Project](https://ontoligent.github.io/DS5100-2023-07-R/notebooks/M00_FinalProject/FinalProjectInstructions.html) isntructions and put your work in this notebook.\n",
    "\n",
    "Total points for each subsection under **Deliverables** and **Scenarios** are given in parentheses.\n",
    "\n",
    "Breakdowns of points within subsections are specified within subsection instructions as bulleted lists.\n",
    "\n",
    "This project is worth **50 points**."
   ]
  },
  {
   "cell_type": "markdown",
   "id": "89dc7a32-f682-4402-8c1e-b6ccdb3e0e39",
   "metadata": {},
   "source": [
    "# Deliverables"
   ]
  },
  {
   "cell_type": "markdown",
   "id": "d32cb273-9a40-4909-a7ce-51f6e4958d3c",
   "metadata": {},
   "source": [
    "## The Monte Carlo Module (10)\n",
    "\n",
    "- URL included, appropriately named (1).\n",
    "- Includes all three specified classes (3).\n",
    "- Includes at least all 12 specified methods (6; .5 each)."
   ]
  },
  {
   "cell_type": "markdown",
   "id": "f5f3b070-de9e-4de9-bfae-8974d184aa28",
   "metadata": {},
   "source": [
    "Put the URL to your GitHub repo here.\n",
    "\n",
    "Repo URL:https://github.com/Sam-Knisely/sck4jh_ds5100_montecarlo"
   ]
  },
  {
   "cell_type": "markdown",
   "id": "29607769-9f76-4da5-b405-913f8eff57ce",
   "metadata": {},
   "source": [
    "Paste a copyy of your module here.\n",
    "\n",
    "NOTE: Paste as text, not as code. Use triple backticks to wrap your code blocks."
   ]
  },
  {
   "cell_type": "markdown",
   "id": "ec7b1172-11d4-4030-89d8-add361bf3676",
   "metadata": {},
   "source": [
    "```\n",
    "# Monte Carlo Module\n",
    "\n",
    "\"\"\"\n",
    "Import pandas as pd and numpy as np for use throughout the module\n",
    "\"\"\"\n",
    "\n",
    "import pandas as pd\n",
    "import numpy as np\n",
    "\n",
    "class Die():\n",
    "    \"\"\"\n",
    "    Required inputs: \n",
    "    - Number of faces of the die (data type = NumPy array)\n",
    "    \n",
    "    This class simulates die rolls. The class accepts the number of faces of the die as an input as a NumPy array in the \n",
    "    init chunk. The corresponding weights of each face can be adjusted if desired using the weight_update method. The \n",
    "    weights default to 1 if not updated. The roll method returns a list of outcomes and can be used to simulate\n",
    "    as many rolls of the die as desired. The number of rolls defaults to 1. The die method returns the current state of \n",
    "    the die with the number of faces and corresponding weights. \n",
    "        \"\"\"\n",
    "    \n",
    "    def __init__(self, faces):\n",
    "        \"\"\"\n",
    "        Required inputs: \n",
    "        - Number of faces of the die (data type = NumPy array)\n",
    "        \n",
    "        This init chunk takes a NumPy array of faces as an argument and throws a `TypeError` if not a NumPy array. The \n",
    "        array’s data type `dtype` may be strings or numbers and will raise a `TypeError` if not. The array’s values have \n",
    "        to be distinct and raises a `ValueError` if not. The weights for each face are initialized as 1.0. The face values\n",
    "        along with their corresponding weights are saved as the weighted_faces dataframe with faces as the index.\n",
    "\n",
    "        \"\"\"\n",
    "        self.faces = faces\n",
    "        if not isinstance(faces, np.ndarray):\n",
    "            raise TypeError(\"The input for the amount of faces needs to be a NumPy array.\")\n",
    "        if not np.issubdtype(faces.dtype, np.number) and not np.issubdtype(faces.dtype, np.str_):\n",
    "            raise TypeError(\"The input for the amount of faces needs to be either numbers or strings.\")\n",
    "        if not np.array_equal(np.unique(faces), faces):\n",
    "            raise ValueError(\"The input for the amount of faces needs to be distinct (unique) values.\")\n",
    "        weights = np.ones(len(faces))\n",
    "        self.weighted_faces = pd.DataFrame(data={\"weights\": weights}, index=faces)\n",
    "                \n",
    "    def weight_update(self, face_index, weight):\n",
    "        \"\"\"\n",
    "        Required inputs: \n",
    "        - The face value to be changed (data type the same as given within the NumPy array, i.e. numeric or string)\n",
    "        - The new weight for the given face (data type must be numeric or castable as numeric)\n",
    "        \n",
    "        This method can be used to update the weight associated with any face of the die.It takes two arguments, \n",
    "        the face value to be changed and the new weight. It checks to see if the face passed is valid value, i.e. if it \n",
    "        is in the die array. If not, raises an `IndexError`. It also checks to see if the weight is a valid type, i.e. if \n",
    "        it is numeric(integer or float) or castable as numeric. If not, raises a `TypeError`.\n",
    "        \"\"\"\n",
    "        if face_index not in self.weighted_faces.index:\n",
    "            raise IndexError(\"The given value for the face is not in the faces NumPy array.\")\n",
    "        try:\n",
    "            weight = float(weight)\n",
    "        except (TypeError, ValueError):\n",
    "            raise TypeError(\"The weight data type must be either numeric or castable as a numeric.\")\n",
    "        self.weighted_faces[\"weights\"][face_index] = weight\n",
    "                \n",
    "    def roll(self, rolls=1):\n",
    "        \"\"\"\n",
    "        Optional inputs:\n",
    "        - Number of rolls (input as an integer; default is to 1)\n",
    "        \n",
    "        Returns:\n",
    "        - Outcomes of the rolls (as a list)\n",
    "        \n",
    "        This method simulates the die rolls and returns the outcomes as a list. It takes a parameter of how many times the \n",
    "        die is to be rolled; defaults to 1. This is essentially a random sample with replacement, from the private die \n",
    "        data frame, that applies the weights. It returns a Python list of outcomes and does not store internally these \n",
    "        results.\n",
    "        \"\"\"\n",
    "        \n",
    "        return [np.random.choice(self.weighted_faces.index, replace = True, \n",
    "                p = self.weighted_faces[\"weights\"] / self.weighted_faces[\"weights\"].sum()) for i in range(rolls)]\n",
    "\n",
    "    def die(self): \n",
    "        \"\"\"\n",
    "        Returns:\n",
    "        - The weighted_faces data frame.\n",
    "        \n",
    "        This method returns the current state of the die and its associated weights.\n",
    "        \"\"\"\n",
    "        return self.weighted_faces\n",
    "    \n",
    "    \n",
    "    \n",
    "class Game():\n",
    "    \"\"\"\n",
    "    Required inputs: \n",
    "    - A python list that contains one or more Die objects\n",
    "    \n",
    "    This class consists of rolling of one or more similar dice (Die objects) one or more times. By similar dice, we mean \n",
    "    that each die in a given game has the same number of sides and associated faces, but each die object may have its \n",
    "    own weights. Each game is initialized with a Python list that contains one or more dice. Game objects have a \n",
    "    behavior to play a game, i.e. to roll all of the dice a given number of times. Game objects only keep the results \n",
    "    of their most recent play.\n",
    "    \n",
    "    There is an init chunk, along with a play and recent_play method. The play method takes the dice, rolls them a given \n",
    "    amount of times, and saves the outcomes in Wide format. The recent_play method returns the play output in either \n",
    "    Wide or Narrow format, as specified with Wide being default.\n",
    "    \"\"\"\n",
    "\n",
    "    def __init__(self, die_list):\n",
    "        \"\"\"\n",
    "        Required inputs: \n",
    "        - A python list that contains one or more dice\n",
    "    \n",
    "        This init chunk requires a Python list of one or more dice to be input. It initializes this list for use throughout \n",
    "        the Game class.\n",
    "        \"\"\"\n",
    "        self.die_list = die_list\n",
    "        self.play_output = None\n",
    "        \n",
    "    def play(self, rolls):\n",
    "        \"\"\"\n",
    "        Required inputs: \n",
    "        - The number of times the dice should be rolled (input as an integer)\n",
    "    \n",
    "        This play method takes an integer parameter to specify how many times the dice should be rolled. Saves the result \n",
    "        of the play to a private data frame. The data frame is in wide format, i.e. has the roll number is a named index \n",
    "        'Roll Number', the columns for each die number use its list index as the column name, and the face rolled is the \n",
    "        instance in each cell.\n",
    "        \"\"\"\n",
    "        output = []\n",
    "        for i in range(rolls):\n",
    "            roll_output = []\n",
    "            for i in self.die_list:\n",
    "                r = i.roll()\n",
    "                roll_output.append(r)\n",
    "            output.append(roll_output)\n",
    "        self.play_output = pd.DataFrame(output)\n",
    "        self.play_output = self.play_output.applymap(lambda x: x[0])\n",
    "        self.play_output.index.name = \"Roll Number\"\n",
    "    def recent_play(self, form = \"Wide\"):\n",
    "        \"\"\"\n",
    "        Required inputs: \n",
    "        - The form of the output dataframe (input as a string either 'Wide' or 'Narrow' ; default is 'Wide'\n",
    "        \n",
    "        This recent play method returns a copy of the private play data frame to the user. It takes a parameter to return \n",
    "        the data frame in narrow or wide form which defaults to wide form. The narrow form has a MultiIndex, comprising\n",
    "        of the roll number and the die number (in that order), and a single column with the outcomes (i.e. the face rolled).\n",
    "        This method raises a ValueError if the user passes an invalid option for narrow or wide.\n",
    "        \"\"\"\n",
    "    \n",
    "        if form == \"Wide\":\n",
    "            return self.play_output\n",
    "        elif form == \"Narrow\":\n",
    "            self.play_output_narrow = pd.DataFrame(self.play_output.stack())\n",
    "            self.play_output_narrow.index.names = [\"Roll Number\", \"Die Number\"]\n",
    "            self.play_output_narrow.columns = [\"Outcome\"]\n",
    "            return self.play_output_narrow\n",
    "        else:\n",
    "            raise ValueError(\"The input for the form of the output must be written as 'Wide' or 'Narrow'.\")\n",
    "            \n",
    "            \n",
    "class Analyzer():\n",
    "    \"\"\"\n",
    "    Required inputs: \n",
    "    - A single Game object\n",
    "    \n",
    "    This class takes the results of a single game and computes various descriptive statistical properties about it.\n",
    "    \n",
    "    There is an init chunk, along with the jackpot, face_count, combo, and perm methods. The jackpot method returns \n",
    "    the amount of times a roll of the dice results in all of the same faces. The face_count method returns how many \n",
    "    times a given face is rolled in each event. The combo method returns the distinct combinations of faces rolled, \n",
    "    along with their counts. The perm method returns the distinct permutations of faces rolled, along with their counts.\n",
    "    \"\"\"\n",
    "    \n",
    "    def __init__(self, game_object):\n",
    "        \"\"\"\n",
    "        Required inputs: \n",
    "        - A single Game object\n",
    "        \n",
    "        This init chunk takes a game object as its input parameter and throws a ValueError if the passed value is not \n",
    "        a Game object.\n",
    "        \"\"\"\n",
    "        \n",
    "        if not isinstance (game_object, Game):\n",
    "            raise ValueError (\"The input must be a Game object.\")\n",
    "        self.game_object = game_object\n",
    "\n",
    "        \n",
    "    def jackpot(self):\n",
    "        \"\"\"\n",
    "        A jackpot is a result in which all faces are the same, e.g. all ones for a six-sided die. This jackpot method \n",
    "        computes how many times the game resulted in a jackpot. It returns an integer for the number of jackpots.\n",
    "        \"\"\"\n",
    "        \n",
    "        test_equal = self.game_object.play_output.nunique(axis=1) == 1\n",
    "        jackpot_count = test_equal.sum()\n",
    "        return jackpot_count\n",
    "    \n",
    "    def face_count(self):\n",
    "        \"\"\"\n",
    "        This face_count method computes how many times a given face is rolled in each event. It returns a data frame \n",
    "        of results. The data frame has an index of the roll number, face values as columns, and count values in \n",
    "        the cells (i.e. it is in wide format).\n",
    "        \"\"\"\n",
    "        \n",
    "        dice_sides = self.game_object.die_list[0].faces\n",
    "        value_counts = self.game_object.play_output.apply(lambda x: x.value_counts(dropna=False), axis=1)\n",
    "        face_count_output = pd.DataFrame(value_counts, index=value_counts.index, columns=dice_sides)\n",
    "        face_count_output.fillna(0, inplace=True)\n",
    "        face_count_output = face_count_output.astype(int)\n",
    "        return face_count_output\n",
    "    \n",
    "    def combo(self):\n",
    "        \"\"\"\n",
    "        This combo method computes the distinct combinations of faces rolled, along with their counts. Combinations are \n",
    "        order-independent and may contain repetitions. It returns a data frame of results. The data frame has a MultiIndex \n",
    "        of distinct combinations and a column for the associated counts.\n",
    "        \"\"\"\n",
    "        combos = self.game_object.play_output.apply(lambda x: tuple(sorted(x)), axis=1)\n",
    "        value_counts_combos = pd.Series(combos).value_counts()\n",
    "        combo_output = pd.DataFrame(value_counts_combos)\n",
    "        combo_output.index = pd.MultiIndex.from_tuples(combo_output.index)\n",
    "        return combo_output\n",
    "    \n",
    "    def perm(self):\n",
    "        \"\"\"\n",
    "        This perm method computes the distinct permutations of faces rolled, along with their counts. Permutations are \n",
    "        order-dependent and may contain repetitions. It returns a data frame of results.The data frame has a MultiIndex of \n",
    "        distinct permutations and a column for the associated counts.\n",
    "        \"\"\"\n",
    "        perms = self.game_object.play_output.apply(tuple, axis=1)\n",
    "        perm_counts = pd.Series(perms).value_counts()\n",
    "        perm_output = pd.DataFrame(perm_counts)\n",
    "        perm_output.index = pd.MultiIndex.from_tuples(perm_counts.index)\n",
    "        return perm_output\n",
    "```"
   ]
  },
  {
   "cell_type": "markdown",
   "id": "6377727a-8f0a-491e-9f1c-d9dc225edd35",
   "metadata": {},
   "source": [
    "## Unitest Module (2)\n",
    "\n",
    "Paste a copy of your test module below.\n",
    "\n",
    "NOTE: Paste as text, not as code. Use triple backticks to wrap your code blocks.\n",
    "\n",
    "- All methods have at least one test method (1).\n",
    "- Each method employs one of Unittest's Assert methods (1)."
   ]
  },
  {
   "cell_type": "markdown",
   "id": "4c81f453-14a4-4b37-a127-82e9b390159e",
   "metadata": {},
   "source": [
    "```\n",
    "import numpy as np\n",
    "import pandas as pd\n",
    "import unittest\n",
    "from montecarlo import Die\n",
    "from montecarlo import Game\n",
    "from montecarlo import Analyzer\n",
    "\n",
    "class MonteCarloTestSuite(unittest.TestCase):\n",
    "    \"\"\"\n",
    "    Module to perform unit tests on the created methods from the montecarlo module. \n",
    "    \"\"\"\n",
    "    \n",
    "    def test_1_Die_init(self): \n",
    "        \"\"\"\n",
    "        Create a Die object and test if weighted_faces is created as a DataFrame from the init chunk.\n",
    "        \"\"\"\n",
    "        test1 = Die(np.array([1, 2, 3, 4, 5, 6]))\n",
    "        self.assertEqual(type(test1.weighted_faces), pd.DataFrame)\n",
    "        \n",
    "    def test_2_Die_weight_update(self):\n",
    "        \"\"\"\n",
    "        Tests the weight_update method of the Die class. Specifically, tests if the first value of the weights column in the weighted_faces DataFrame is numeric or castable as a numeric.\n",
    "        \"\"\"\n",
    "        test2 = Die(np.array([1, 2, 3, 4, 5, 6]))\n",
    "        test2.weight_update(2, 100)\n",
    "        self.assertTrue(isinstance(test2.weighted_faces[\"weights\"].iloc[0],float))\n",
    "        \n",
    "    def test_3_Die_roll(self):\n",
    "        \"\"\"\n",
    "        Tests the roll method of the Die class. Specifically, tests if a list is returned.\n",
    "        \"\"\"\n",
    "        test3 = Die(np.array([1, 2, 3, 4, 5, 6]))\n",
    "        self.assertTrue(isinstance(test3.roll(10), list))\n",
    "    \n",
    "    def test_4_Die_die(self):\n",
    "        \"\"\"\n",
    "        Tests the die method of the Die class. Specifically, tests if the weights column is present in the returned DataFrame.\n",
    "        \"\"\"\n",
    "        test4 = Die(np.array([1, 2, 3, 4, 5, 6]))\n",
    "        self.assertTrue(\"weights\" in test4.die().columns)\n",
    "    \n",
    "    def test_5_Game_init(self):\n",
    "        \"\"\"\n",
    "        Tests the init chunk of the Game class. Specifically, tests if the die_list is initialized and a list type.\n",
    "        \"\"\"\n",
    "        test5 = Die(np.array([1, 2, 3, 4, 5, 6]))\n",
    "        test51 = Die(np.array([1, 2, 3, 4, 5, 6]))\n",
    "        die_list5 = [test5, test51]\n",
    "        game_test5 = Game(die_list5)\n",
    "        self.assertTrue(isinstance(game_test5.die_list, list))\n",
    "        \n",
    "    def test_6_Game_play(self):\n",
    "        \"\"\"\n",
    "        Tests the play method of the Game class. Specifically, tests if the amount of rows in the play_output DataFrame is properly updated with the amount of rolls input to the play method (5 in the unittest example).\n",
    "        \"\"\"\n",
    "        test6 = Die(np.array([1, 2, 3, 4, 5, 6]))\n",
    "        test61 = Die(np.array([1, 2, 3, 4, 5, 6]))\n",
    "        die_list6 = [test6, test61]\n",
    "        game_test6 = Game(die_list6)\n",
    "        game_test6.play(5)\n",
    "        self.assertEqual(len(game_test6.play_output), 5)\n",
    "        \n",
    "    def test_7_Game_recent_play(self):\n",
    "        \"\"\"\n",
    "        Tests the recent_play method of the Game class. Specifically, tests MultiIndex is present when Narrow is entered as the form parameter.\n",
    "        \"\"\"\n",
    "        test7 = Die(np.array([1, 2, 3, 4, 5, 6]))\n",
    "        test71 = Die(np.array([1, 2, 3, 4, 5, 6]))\n",
    "        die_list7 = [test7, test71]\n",
    "        game_test7 = Game(die_list7)\n",
    "        game_test7.play(5)\n",
    "        self.assertTrue(isinstance(game_test7.recent_play(\"Narrow\").index, pd.MultiIndex))\n",
    "        \n",
    "    def test_8_Analyzer_init(self):\n",
    "        \"\"\"\n",
    "        Tests the init chunk of the Analyzer class. Specifically, tests that the variable game_object is in fact a Game object from the Game class.\n",
    "        \"\"\"\n",
    "        test8 = Die(np.array([1, 2, 3, 4, 5, 6]))\n",
    "        test81 = Die(np.array([1, 2, 3, 4, 5, 6]))\n",
    "        die_list8 = [test8, test81]\n",
    "        game_test8 = Game(die_list8)\n",
    "        game_test8.play(5)\n",
    "        analyze8 = Analyzer(game_test8)\n",
    "        self.assertTrue(isinstance(analyze8.game_object, Game))\n",
    "        \n",
    "    def test_9_1_Analyzer_jackpot(self):\n",
    "        \"\"\"\n",
    "        Tests the jackpot method of the Analyzer class. Specifically, tests that method is returning an integer.\n",
    "        \"\"\"\n",
    "        test9 = Die(np.array([1, 2, 3, 4, 5, 6]))\n",
    "        test91 = Die(np.array([1, 2, 3, 4, 5, 6]))\n",
    "        die_list9 = [test9, test91]\n",
    "        game_test9 = Game(die_list9)\n",
    "        game_test9.play(5)\n",
    "        analyze9 = Analyzer(game_test9)\n",
    "        self.assertTrue(isinstance(analyze9.jackpot(), np.int64))\n",
    "        \n",
    "    def test_9_2_Analyzer_face_count(self):\n",
    "        \"\"\"\n",
    "        Tests the face_count method of the Analyzer class. Specifically, tests that number of columns in the returned DataFrame is equal to the number of faces on the input die.\n",
    "        \"\"\"\n",
    "        test10 = Die(np.array([1, 2, 3, 4, 5, 6]))\n",
    "        test101 = Die(np.array([1, 2, 3, 4, 5, 6]))\n",
    "        die_list10 = [test10, test101]\n",
    "        game_test10 = Game(die_list10)\n",
    "        game_test10.play(5)\n",
    "        analyze10 = Analyzer(game_test10)\n",
    "        self.assertEqual(analyze10.face_count().shape[1], len(game_test10.die_list[0].faces))\n",
    "        \n",
    "    def test_9_3_Analyzer_combo(self):\n",
    "        \"\"\"\n",
    "        Tests the combo method of the Analyzer class. Specifically, tests that returned DataFrame has a MultiIndex.\n",
    "        \"\"\"\n",
    "        test11 = Die(np.array([1, 2, 3, 4, 5, 6]))\n",
    "        test111 = Die(np.array([1, 2, 3, 4, 5, 6]))\n",
    "        die_list11 = [test11, test111]\n",
    "        game_test11 = Game(die_list11)\n",
    "        game_test11.play(5)\n",
    "        analyze11 = Analyzer(game_test11)\n",
    "        self.assertTrue(isinstance(analyze11.combo().index, pd.MultiIndex))\n",
    "        \n",
    "    def test_9_4_Analyzer_perm(self):\n",
    "        \"\"\"\n",
    "        Tests the perm method of the Analyzer class. Specifically, tests that column in the returned DataFrame is named count.\n",
    "        \"\"\"\n",
    "        test12 = Die(np.array([1, 2, 3, 4, 5, 6]))\n",
    "        test121 = Die(np.array([1, 2, 3, 4, 5, 6]))\n",
    "        die_list12 = [test12, test121]\n",
    "        game_test12 = Game(die_list12)\n",
    "        game_test12.play(5)\n",
    "        analyze12 = Analyzer(game_test12)\n",
    "        self.assertEqual(analyze12.perm().columns[0], \"count\")\n",
    "        \n",
    "if __name__ == '__main__':\n",
    "    \n",
    "    unittest.main(verbosity=3)\n",
    "```"
   ]
  },
  {
   "cell_type": "markdown",
   "id": "3e058d03-29bc-408f-b36d-0605b4f4b8c0",
   "metadata": {
    "tags": []
   },
   "source": [
    "## Unittest Results (3)\n",
    "\n",
    "Put a copy of the results of running your tests from the command line here.\n",
    "\n",
    "Again, paste as text using triple backticks.\n",
    "\n",
    "- All 12 specified methods return OK (3; .25 each)."
   ]
  },
  {
   "cell_type": "markdown",
   "id": "b840622e-9eca-4b3c-b486-d1db141ad0f4",
   "metadata": {
    "tags": []
   },
   "source": [
    "```\n",
    "bash-4.4$ pwd\n",
    "/sfs/qumulo/qhome/sck4jh/sck4jh_ds5100_montecarlo\n",
    "bash-4.4$ cd ~/sck4jh_ds5100_montecarlo/montecarlo\n",
    "bash-4.4$ python montecarlo_test.py\n",
    "test_1_Die_init (__main__.MonteCarloTestSuite.test_1_Die_init)\n",
    "Create a Die object and test if weighted_faces is created as a DataFrame from the init chunk. ... ok\n",
    "test_2_Die_weight_update (__main__.MonteCarloTestSuite.test_2_Die_weight_update)\n",
    "Tests the weight_update method of the Die class. Specifically, tests if the first value of the weights column in the weighted_faces DataFrame is numeric or castable as a numeric. ... ok\n",
    "test_3_Die_roll (__main__.MonteCarloTestSuite.test_3_Die_roll)\n",
    "Tests the roll method of the Die class. Specifically, tests if a list is returned. ... ok\n",
    "test_4_Die_die (__main__.MonteCarloTestSuite.test_4_Die_die)\n",
    "Tests the die method of the Die class. Specifically, tests if the weights column is present in the returned DataFrame. ... ok\n",
    "test_5_Game_init (__main__.MonteCarloTestSuite.test_5_Game_init)\n",
    "Tests the init chunk of the Game class. Specifically, tests if the die_list is initialized and a list type. ... ok\n",
    "test_6_Game_play (__main__.MonteCarloTestSuite.test_6_Game_play)\n",
    "Tests the play method of the Game class. Specifically, tests if the amount of rows in the play_output DataFrame is properly updated with the amount of rolls input to the play method (5 in the unittest example). ... ok\n",
    "test_7_Game_recent_play (__main__.MonteCarloTestSuite.test_7_Game_recent_play)\n",
    "Tests the recent_play method of the Game class. Specifically, tests MultiIndex is present when Narrow is entered as the form parameter. ... ok\n",
    "test_8_Analyzer_init (__main__.MonteCarloTestSuite.test_8_Analyzer_init)\n",
    "Tests the init chunk of the Analyzer class. Specifically, tests that the variable game_object is in fact a Game object from the Game class. ... ok\n",
    "test_9_1_Analyzer_jackpot (__main__.MonteCarloTestSuite.test_9_1_Analyzer_jackpot)\n",
    "Tests the jackpot method of the Analyzer class. Specifically, tests that method is returning an integer. ... ok\n",
    "test_9_2_Analyzer_face_count (__main__.MonteCarloTestSuite.test_9_2_Analyzer_face_count)\n",
    "Tests the face_count method of the Analyzer class. Specifically, tests that number of columns in the returned DataFrame is equal to the number of faces on the input die. ... ok\n",
    "test_9_3_Analyzer_combo (__main__.MonteCarloTestSuite.test_9_3_Analyzer_combo)\n",
    "Tests the combo method of the Analyzer class. Specifically, tests that returned DataFrame has a MultiIndex. ... ok\n",
    "test_9_4_Analyzer_perm (__main__.MonteCarloTestSuite.test_9_4_Analyzer_perm)\n",
    "Tests the perm method of the Analyzer class. Specifically, tests that column in the returned DataFrame is named count. ... ok\n",
    "\n",
    "----------------------------------------------------------------------\n",
    "Ran 12 tests in 0.028s\n",
    "\n",
    "OK\n",
    "```"
   ]
  },
  {
   "cell_type": "markdown",
   "id": "d9ffe8c5-eb2f-4ad1-af76-a46550e4c7ac",
   "metadata": {},
   "source": [
    "## Import (1)\n",
    "\n",
    "Import your module here. This import should refer to the code in your package directory.\n",
    "\n",
    "- Module successuflly imported (1)."
   ]
  },
  {
   "cell_type": "code",
   "execution_count": 1,
   "id": "a05dffb3-e6d6-4f78-9df4-5abd0cf74ca9",
   "metadata": {
    "tags": []
   },
   "outputs": [
    {
     "name": "stdout",
     "output_type": "stream",
     "text": [
      "Welcome to Sam Knisely's DS51000 Final Project!\n"
     ]
    }
   ],
   "source": [
    "from montecarlo import montecarlo"
   ]
  },
  {
   "cell_type": "markdown",
   "id": "f30c4842-65b1-4556-98b6-3fe1a07e1371",
   "metadata": {},
   "source": [
    "## Help Docs (4)\n",
    "\n",
    "Show your docstring documentation by applying `help()` to your imported module.\n",
    "\n",
    "- All methods have a docstring (3; .25 each).\n",
    "- All classes have a docstring (1; .33 each)."
   ]
  },
  {
   "cell_type": "code",
   "execution_count": 2,
   "id": "bf4fbf1f-9885-471c-a0a6-e9ca90e160de",
   "metadata": {
    "tags": []
   },
   "outputs": [
    {
     "name": "stdout",
     "output_type": "stream",
     "text": [
      "Help on module montecarlo.montecarlo in montecarlo:\n",
      "\n",
      "NAME\n",
      "    montecarlo.montecarlo - Import pandas as pd and numpy as np for use throughout the module\n",
      "\n",
      "CLASSES\n",
      "    builtins.object\n",
      "        Analyzer\n",
      "        Die\n",
      "        Game\n",
      "    \n",
      "    class Analyzer(builtins.object)\n",
      "     |  Analyzer(game_object)\n",
      "     |  \n",
      "     |  Required inputs: \n",
      "     |  - A single Game object\n",
      "     |  \n",
      "     |  This class takes the results of a single game and computes various descriptive statistical properties about it.\n",
      "     |  \n",
      "     |  There is an init chunk, along with the jackpot, face_count, combo, and perm methods. The jackpot method returns \n",
      "     |  the amount of times a roll of the dice results in all of the same faces. The face_count method returns how many \n",
      "     |  times a given face is rolled in each event. The combo method returns the distinct combinations of faces rolled, \n",
      "     |  along with their counts. The perm method returns the distinct permutations of faces rolled, along with their counts.\n",
      "     |  \n",
      "     |  Methods defined here:\n",
      "     |  \n",
      "     |  __init__(self, game_object)\n",
      "     |      Required inputs: \n",
      "     |      - A single Game object\n",
      "     |      \n",
      "     |      This init chunk takes a game object as its input parameter and throws a ValueError if the passed value is not \n",
      "     |      a Game object.\n",
      "     |  \n",
      "     |  combo(self)\n",
      "     |      This combo method computes the distinct combinations of faces rolled, along with their counts. Combinations are \n",
      "     |      order-independent and may contain repetitions. It returns a data frame of results. The data frame has a MultiIndex \n",
      "     |      of distinct combinations and a column for the associated counts.\n",
      "     |  \n",
      "     |  face_count(self)\n",
      "     |      This face_count method computes how many times a given face is rolled in each event. It returns a data frame \n",
      "     |      of results. The data frame has an index of the roll number, face values as columns, and count values in \n",
      "     |      the cells (i.e. it is in wide format).\n",
      "     |  \n",
      "     |  jackpot(self)\n",
      "     |      A jackpot is a result in which all faces are the same, e.g. all ones for a six-sided die. This jackpot method \n",
      "     |      computes how many times the game resulted in a jackpot. It returns an integer for the number of jackpots.\n",
      "     |  \n",
      "     |  perm(self)\n",
      "     |      This perm method computes the distinct permutations of faces rolled, along with their counts. Permutations are \n",
      "     |      order-dependent and may contain repetitions. It returns a data frame of results.The data frame has a MultiIndex of \n",
      "     |      distinct permutations and a column for the associated counts.\n",
      "     |  \n",
      "     |  ----------------------------------------------------------------------\n",
      "     |  Data descriptors defined here:\n",
      "     |  \n",
      "     |  __dict__\n",
      "     |      dictionary for instance variables (if defined)\n",
      "     |  \n",
      "     |  __weakref__\n",
      "     |      list of weak references to the object (if defined)\n",
      "    \n",
      "    class Die(builtins.object)\n",
      "     |  Die(faces)\n",
      "     |  \n",
      "     |  Required inputs: \n",
      "     |  - Number of faces of the die (data type = NumPy array)\n",
      "     |  \n",
      "     |  This class simulates die rolls. The class accepts the number of faces of the die as an input as a NumPy array in the \n",
      "     |  init chunk. The corresponding weights of each face can be adjusted if desired using the weight_update method. The \n",
      "     |  weights default to 1 if not updated. The roll method returns a list of outcomes and can be used to simulate\n",
      "     |  as many rolls of the die as desired. The number of rolls defaults to 1. The die method returns the current state of \n",
      "     |  the die with the number of faces and corresponding weights.\n",
      "     |  \n",
      "     |  Methods defined here:\n",
      "     |  \n",
      "     |  __init__(self, faces)\n",
      "     |      Required inputs: \n",
      "     |      - Number of faces of the die (data type = NumPy array)\n",
      "     |      \n",
      "     |      This init chunk takes a NumPy array of faces as an argument and throws a `TypeError` if not a NumPy array. The \n",
      "     |      array’s data type `dtype` may be strings or numbers and will raise a `TypeError` if not. The array’s values have \n",
      "     |      to be distinct and raises a `ValueError` if not. The weights for each face are initialized as 1.0. The face values\n",
      "     |      along with their corresponding weights are saved as the weighted_faces dataframe with faces as the index.\n",
      "     |  \n",
      "     |  die(self)\n",
      "     |      Returns:\n",
      "     |      - The weighted_faces data frame.\n",
      "     |      \n",
      "     |      This method returns the current state of the die and its associated weights.\n",
      "     |  \n",
      "     |  roll(self, rolls=1)\n",
      "     |      Optional inputs:\n",
      "     |      - Number of rolls (input as an integer; default is to 1)\n",
      "     |      \n",
      "     |      Returns:\n",
      "     |      - Outcomes of the rolls (as a list)\n",
      "     |      \n",
      "     |      This method simulates the die rolls and returns the outcomes as a list. It takes a parameter of how many times the \n",
      "     |      die is to be rolled; defaults to 1. This is essentially a random sample with replacement, from the private die \n",
      "     |      data frame, that applies the weights. It returns a Python list of outcomes and does not store internally these \n",
      "     |      results.\n",
      "     |  \n",
      "     |  weight_update(self, face_index, weight)\n",
      "     |      Required inputs: \n",
      "     |      - The face value to be changed (data type the same as given within the NumPy array, i.e. numeric or string)\n",
      "     |      - The new weight for the given face (data type must be numeric or castable as numeric)\n",
      "     |      \n",
      "     |      This method can be used to update the weight associated with any face of the die.It takes two arguments, \n",
      "     |      the face value to be changed and the new weight. It checks to see if the face passed is valid value, i.e. if it \n",
      "     |      is in the die array. If not, raises an `IndexError`. It also checks to see if the weight is a valid type, i.e. if \n",
      "     |      it is numeric(integer or float) or castable as numeric. If not, raises a `TypeError`.\n",
      "     |  \n",
      "     |  ----------------------------------------------------------------------\n",
      "     |  Data descriptors defined here:\n",
      "     |  \n",
      "     |  __dict__\n",
      "     |      dictionary for instance variables (if defined)\n",
      "     |  \n",
      "     |  __weakref__\n",
      "     |      list of weak references to the object (if defined)\n",
      "    \n",
      "    class Game(builtins.object)\n",
      "     |  Game(die_list)\n",
      "     |  \n",
      "     |  Required inputs: \n",
      "     |  - A python list that contains one or more Die objects\n",
      "     |  \n",
      "     |  This class consists of rolling of one or more similar dice (Die objects) one or more times. By similar dice, we mean \n",
      "     |  that each die in a given game has the same number of sides and associated faces, but each die object may have its \n",
      "     |  own weights. Each game is initialized with a Python list that contains one or more dice. Game objects have a \n",
      "     |  behavior to play a game, i.e. to roll all of the dice a given number of times. Game objects only keep the results \n",
      "     |  of their most recent play.\n",
      "     |  \n",
      "     |  There is an init chunk, along with a play and recent_play method. The play method takes the dice, rolls them a given \n",
      "     |  amount of times, and saves the outcomes in Wide format. The recent_play method returns the play output in either \n",
      "     |  Wide or Narrow format, as specified with Wide being default.\n",
      "     |  \n",
      "     |  Methods defined here:\n",
      "     |  \n",
      "     |  __init__(self, die_list)\n",
      "     |      Required inputs: \n",
      "     |      - A python list that contains one or more dice\n",
      "     |      \n",
      "     |      This init chunk requires a Python list of one or more dice to be input. It initializes this list for use throughout \n",
      "     |      the Game class.\n",
      "     |  \n",
      "     |  play(self, rolls)\n",
      "     |      Required inputs: \n",
      "     |      - The number of times the dice should be rolled (input as an integer)\n",
      "     |      \n",
      "     |      This play method takes an integer parameter to specify how many times the dice should be rolled. Saves the result \n",
      "     |      of the play to a private data frame. The data frame is in wide format, i.e. has the roll number is a named index \n",
      "     |      'Roll Number', the columns for each die number use its list index as the column name, and the face rolled is the \n",
      "     |      instance in each cell.\n",
      "     |  \n",
      "     |  recent_play(self, form='Wide')\n",
      "     |      Required inputs: \n",
      "     |      - The form of the output dataframe (input as a string either 'Wide' or 'Narrow' ; default is 'Wide'\n",
      "     |      \n",
      "     |      This recent play method returns a copy of the private play data frame to the user. It takes a parameter to return \n",
      "     |      the data frame in narrow or wide form which defaults to wide form. The narrow form has a MultiIndex, comprising\n",
      "     |      of the roll number and the die number (in that order), and a single column with the outcomes (i.e. the face rolled).\n",
      "     |      This method raises a ValueError if the user passes an invalid option for narrow or wide.\n",
      "     |  \n",
      "     |  ----------------------------------------------------------------------\n",
      "     |  Data descriptors defined here:\n",
      "     |  \n",
      "     |  __dict__\n",
      "     |      dictionary for instance variables (if defined)\n",
      "     |  \n",
      "     |  __weakref__\n",
      "     |      list of weak references to the object (if defined)\n",
      "\n",
      "FILE\n",
      "    /sfs/qumulo/qhome/sck4jh/sck4jh_ds5100_montecarlo/montecarlo/montecarlo.py\n",
      "\n",
      "\n"
     ]
    }
   ],
   "source": [
    "help(montecarlo)"
   ]
  },
  {
   "cell_type": "markdown",
   "id": "a9defa84-b395-4966-bd1c-5c6c2bb7ed68",
   "metadata": {},
   "source": [
    "## `README.md` File (3)\n",
    "\n",
    "Provide link to the README.md file of your project's repo.\n",
    "\n",
    "- Metadata section or info present (1).\n",
    "- Synopsis section showing how each class is called (1). (All must be included.)\n",
    "- API section listing all classes and methods (1). (All must be included.)"
   ]
  },
  {
   "cell_type": "markdown",
   "id": "ee090b33-d593-48a0-bf35-e739cea0942c",
   "metadata": {},
   "source": [
    "URL: https://github.com/Sam-Knisely/sck4jh_ds5100_montecarlo?tab=readme-ov-file#sck4jh_ds5100_montecarlo"
   ]
  },
  {
   "cell_type": "markdown",
   "id": "108604c8-8827-42ef-ab59-6b25428fc0ca",
   "metadata": {},
   "source": [
    "## Successful installation (2)\n",
    "\n",
    "Put a screenshot or paste a copy of a terminal session where you successfully install your module with pip.\n",
    "\n",
    "If pasting text, use a preformatted text block to show the results.\n",
    "\n",
    "- Installed with `pip` (1).\n",
    "- Successfully installed message appears (1)."
   ]
  },
  {
   "cell_type": "raw",
   "id": "1278db6a-aa53-4e5c-a749-93a87ab239e0",
   "metadata": {},
   "source": [
    "bash-4.4$pip install -e .\n",
    "Defaulting to user installation because normal site-packages is not writeable\n",
    "Obtaining file:///sfs/qumulo/qhome/sck4jh/sck4jh_ds5100_montecarlo\n",
    "  Preparing metadata (setup.py) ... done\n",
    "Installing collected packages: montecarlo\n",
    "  Running setup.py develop for montecarlo\n",
    "Successfully installed montecarlo-0.0.0"
   ]
  },
  {
   "cell_type": "markdown",
   "id": "7c44695d-d1b3-4edf-9f94-e64d7446f199",
   "metadata": {},
   "source": [
    "# Scenarios\n",
    "\n",
    "Use code blocks to perform the tasks for each scenario.\n",
    "\n",
    "Be sure the outputs are visible before submitting."
   ]
  },
  {
   "cell_type": "markdown",
   "id": "e2479eae-6fc9-44cd-b8d7-9b22cb501f2a",
   "metadata": {
    "tags": []
   },
   "source": [
    "## Scenario 1: A 2-headed Coin (9)\n",
    "\n",
    "Task 1. Create a fair coin (with faces $H$ and $T$) and one unfair coin in which one of the faces has a weight of $5$ and the others $1$.\n",
    "\n",
    "- Fair coin created (1).\n",
    "- Unfair coin created with weight as specified (1)."
   ]
  },
  {
   "cell_type": "code",
   "execution_count": 9,
   "id": "55ce498e-c75f-4425-9e3e-b635bd6cd9e1",
   "metadata": {},
   "outputs": [
    {
     "data": {
      "text/html": [
       "<div>\n",
       "<style scoped>\n",
       "    .dataframe tbody tr th:only-of-type {\n",
       "        vertical-align: middle;\n",
       "    }\n",
       "\n",
       "    .dataframe tbody tr th {\n",
       "        vertical-align: top;\n",
       "    }\n",
       "\n",
       "    .dataframe thead th {\n",
       "        text-align: right;\n",
       "    }\n",
       "</style>\n",
       "<table border=\"1\" class=\"dataframe\">\n",
       "  <thead>\n",
       "    <tr style=\"text-align: right;\">\n",
       "      <th></th>\n",
       "      <th>weights</th>\n",
       "    </tr>\n",
       "  </thead>\n",
       "  <tbody>\n",
       "    <tr>\n",
       "      <th>H</th>\n",
       "      <td>5.0</td>\n",
       "    </tr>\n",
       "    <tr>\n",
       "      <th>T</th>\n",
       "      <td>1.0</td>\n",
       "    </tr>\n",
       "  </tbody>\n",
       "</table>\n",
       "</div>"
      ],
      "text/plain": [
       "   weights\n",
       "H      5.0\n",
       "T      1.0"
      ]
     },
     "execution_count": 9,
     "metadata": {},
     "output_type": "execute_result"
    }
   ],
   "source": [
    "import numpy as np\n",
    "import pandas as pd\n",
    "\n",
    "#Numpy array with H and T\n",
    "array = np.array([\"H\", \"T\"])\n",
    "\n",
    "#Fair coin creation\n",
    "fair = montecarlo.Die(array)\n",
    "\n",
    "#Unfair coin creation\n",
    "unfair = montecarlo.Die(array)\n",
    "unfair.weight_update(\"H\", 5)\n",
    "unfair.die()"
   ]
  },
  {
   "cell_type": "markdown",
   "id": "02b272ab-99da-4b6e-ac2a-555b73e09c07",
   "metadata": {},
   "source": [
    "Task 2. Play a game of $1000$ flips with two fair dice.\n",
    "\n",
    "- Play method called correclty and without error (1)."
   ]
  },
  {
   "cell_type": "code",
   "execution_count": 10,
   "id": "65c92601-d32d-4326-b215-74953aee27f2",
   "metadata": {},
   "outputs": [],
   "source": [
    "#Create fair game object with list of fair coin die objects\n",
    "die_list_fair = [fair, fair]\n",
    "fair_game = montecarlo.Game(die_list_fair)\n",
    "\n",
    "#Call play method with 1000 flips\n",
    "fair_game.play(1000)"
   ]
  },
  {
   "cell_type": "markdown",
   "id": "7d9c3dc8-22c1-4cae-81fb-d68d774a05d1",
   "metadata": {},
   "source": [
    "Task 3. Play another game (using a new Game object) of $1000$ flips, this time using two unfair dice and one fair die. For the second unfair die, you can use the same die object twice in the list of dice you pass to the Game object.\n",
    "\n",
    "- New game object created (1).\n",
    "- Play method called correclty and without error (1)."
   ]
  },
  {
   "cell_type": "code",
   "execution_count": 11,
   "id": "d4098bed-1eb2-4084-8d5e-9fda07c3be43",
   "metadata": {},
   "outputs": [],
   "source": [
    "#Create game object with list of 2 unfair coins and 1 fair coin die objects\n",
    "die_list_2unfair_1fair = [unfair, unfair, fair]\n",
    "unfair_game = montecarlo.Game(die_list_2unfair_1fair)\n",
    "\n",
    "#Call play method with 1000 flips\n",
    "unfair_game.play(1000)"
   ]
  },
  {
   "cell_type": "markdown",
   "id": "f690ebfc-fe71-4eb2-976d-7ac80ca6c23f",
   "metadata": {},
   "source": [
    "Task 4. For each game, use an Analyzer object to determine the raw frequency of jackpots — i.e. getting either all $H$s or all $T$s.\n",
    "\n",
    "- Analyzer objecs instantiated for both games (1).\n",
    "- Raw frequencies reported for both (1)."
   ]
  },
  {
   "cell_type": "code",
   "execution_count": 12,
   "id": "b26b8b7e-3be7-4476-a9a4-37d97536729e",
   "metadata": {},
   "outputs": [
    {
     "data": {
      "text/plain": [
       "491"
      ]
     },
     "execution_count": 12,
     "metadata": {},
     "output_type": "execute_result"
    }
   ],
   "source": [
    "#Create fair game Analyzer object\n",
    "fair_analyze = montecarlo.Analyzer(fair_game)\n",
    "\n",
    "#Call jackpot method\n",
    "fair_analyze.jackpot()"
   ]
  },
  {
   "cell_type": "code",
   "execution_count": 13,
   "id": "20c8a345-52f1-4e38-a47e-8d137840be88",
   "metadata": {
    "tags": []
   },
   "outputs": [
    {
     "data": {
      "text/plain": [
       "359"
      ]
     },
     "execution_count": 13,
     "metadata": {},
     "output_type": "execute_result"
    }
   ],
   "source": [
    "#Create unfair game Analyzer object\n",
    "unfair_analyze = montecarlo.Analyzer(unfair_game)\n",
    "\n",
    "#Call jackpot method\n",
    "unfair_analyze.jackpot()"
   ]
  },
  {
   "cell_type": "markdown",
   "id": "b73d233c-445e-40cd-8858-0c5e1f097105",
   "metadata": {},
   "source": [
    "Task 5. For each analyzer, compute relative frequency as the number of jackpots over the total number of rolls.\n",
    "\n",
    "- Both relative frequencies computed (1)."
   ]
  },
  {
   "cell_type": "code",
   "execution_count": 14,
   "id": "9a96b31b-1b9d-496e-be3e-4bf83c45ec3a",
   "metadata": {},
   "outputs": [
    {
     "data": {
      "text/plain": [
       "0.491"
      ]
     },
     "execution_count": 14,
     "metadata": {},
     "output_type": "execute_result"
    }
   ],
   "source": [
    "#Fair game jackpot relative frequency\n",
    "fair_freq = fair_analyze.jackpot()/len(fair_game.play_output)\n",
    "fair_freq"
   ]
  },
  {
   "cell_type": "code",
   "execution_count": 15,
   "id": "2dbc4c36-8b93-4d78-bdc1-d95461a7c6ac",
   "metadata": {
    "tags": []
   },
   "outputs": [
    {
     "data": {
      "text/plain": [
       "0.359"
      ]
     },
     "execution_count": 15,
     "metadata": {},
     "output_type": "execute_result"
    }
   ],
   "source": [
    "#Unfair game jackpot relative frequency\n",
    "unfair_freq = unfair_analyze.jackpot()/len(unfair_game.play_output)\n",
    "unfair_freq"
   ]
  },
  {
   "cell_type": "markdown",
   "id": "a6e1e734-7f5c-4721-8ba4-2f3a424cf984",
   "metadata": {},
   "source": [
    "Task 6. Show your results, comparing the two relative frequencies, in a simple bar chart.\n",
    "\n",
    "- Bar chart plotted and correct (1)."
   ]
  },
  {
   "cell_type": "code",
   "execution_count": 16,
   "id": "473fa67c-aa53-4aa3-a0b7-e8772b3f6ed3",
   "metadata": {},
   "outputs": [
    {
     "data": {
      "text/plain": [
       "(0.0, 1.0)"
      ]
     },
     "execution_count": 16,
     "metadata": {},
     "output_type": "execute_result"
    },
    {
     "data": {
      "image/png": "[encoded data removed]",
      "text/plain": [
       "<Figure size 640x480 with 1 Axes>"
      ]
     },
     "metadata": {},
     "output_type": "display_data"
    }
   ],
   "source": [
    "#Bar chart of relative frequencies\n",
    "import matplotlib.pyplot as plot\n",
    "freqs = list([fair_freq, unfair_freq])\n",
    "plot.bar([\"Fair Game\", \"Unfair Game\"], freqs)\n",
    "plot.ylabel(\"Relative Frequency\")\n",
    "plot.ylim(0,1)"
   ]
  },
  {
   "cell_type": "markdown",
   "id": "725cfa5b-e4b7-47c9-86aa-8d9e1fe6c8c7",
   "metadata": {},
   "source": [
    "## Scenario 2: A 6-sided Die (9)\n",
    "\n",
    "Task 1. Create three dice, each with six sides having the faces 1 through 6.\n",
    "\n",
    "- Three die objects created (1)."
   ]
  },
  {
   "cell_type": "code",
   "execution_count": 17,
   "id": "6a8bc611-325a-4e05-88d5-980e0a2cf7c5",
   "metadata": {},
   "outputs": [],
   "source": [
    "#Numpy array with 1:6\n",
    "dice_array = np.array([1, 2, 3, 4, 5, 6])\n",
    "\n",
    "#Create 3 die objects with faces 1:6\n",
    "Die1 = montecarlo.Die(dice_array)\n",
    "Die2 = montecarlo.Die(dice_array)\n",
    "Die3 = montecarlo.Die(dice_array)"
   ]
  },
  {
   "cell_type": "markdown",
   "id": "2ed3ad26-fbe9-43bd-9ad7-f683a4191d12",
   "metadata": {},
   "source": [
    "Task 2. Convert one of the dice to an unfair one by weighting the face $6$ five times more than the other weights (i.e. it has weight of 5 and the others a weight of 1 each).\n",
    "\n",
    "- Unfair die created with proper call to weight change method (1)."
   ]
  },
  {
   "cell_type": "code",
   "execution_count": 19,
   "id": "e33dd18f-7f90-456d-a680-61c08a328e21",
   "metadata": {},
   "outputs": [
    {
     "data": {
      "text/html": [
       "<div>\n",
       "<style scoped>\n",
       "    .dataframe tbody tr th:only-of-type {\n",
       "        vertical-align: middle;\n",
       "    }\n",
       "\n",
       "    .dataframe tbody tr th {\n",
       "        vertical-align: top;\n",
       "    }\n",
       "\n",
       "    .dataframe thead th {\n",
       "        text-align: right;\n",
       "    }\n",
       "</style>\n",
       "<table border=\"1\" class=\"dataframe\">\n",
       "  <thead>\n",
       "    <tr style=\"text-align: right;\">\n",
       "      <th></th>\n",
       "      <th>weights</th>\n",
       "    </tr>\n",
       "  </thead>\n",
       "  <tbody>\n",
       "    <tr>\n",
       "      <th>1</th>\n",
       "      <td>1.0</td>\n",
       "    </tr>\n",
       "    <tr>\n",
       "      <th>2</th>\n",
       "      <td>1.0</td>\n",
       "    </tr>\n",
       "    <tr>\n",
       "      <th>3</th>\n",
       "      <td>1.0</td>\n",
       "    </tr>\n",
       "    <tr>\n",
       "      <th>4</th>\n",
       "      <td>1.0</td>\n",
       "    </tr>\n",
       "    <tr>\n",
       "      <th>5</th>\n",
       "      <td>1.0</td>\n",
       "    </tr>\n",
       "    <tr>\n",
       "      <th>6</th>\n",
       "      <td>5.0</td>\n",
       "    </tr>\n",
       "  </tbody>\n",
       "</table>\n",
       "</div>"
      ],
      "text/plain": [
       "   weights\n",
       "1      1.0\n",
       "2      1.0\n",
       "3      1.0\n",
       "4      1.0\n",
       "5      1.0\n",
       "6      5.0"
      ]
     },
     "execution_count": 19,
     "metadata": {},
     "output_type": "execute_result"
    }
   ],
   "source": [
    "#Create unfair die with face 6 with a weight of 5\n",
    "Die1.weight_update(6, 5)\n",
    "Die1.die()"
   ]
  },
  {
   "cell_type": "markdown",
   "id": "7f6c062a-4c5b-45b9-96b8-76a0354c7e47",
   "metadata": {},
   "source": [
    "Task 3. Convert another of the dice to be unfair by weighting the face $1$ five times more than the others.\n",
    "\n",
    "- Unfair die created with proper call to weight change method (1)."
   ]
  },
  {
   "cell_type": "code",
   "execution_count": 20,
   "id": "01133a4e-6b06-4246-8d90-8e6d6995be51",
   "metadata": {},
   "outputs": [
    {
     "data": {
      "text/html": [
       "<div>\n",
       "<style scoped>\n",
       "    .dataframe tbody tr th:only-of-type {\n",
       "        vertical-align: middle;\n",
       "    }\n",
       "\n",
       "    .dataframe tbody tr th {\n",
       "        vertical-align: top;\n",
       "    }\n",
       "\n",
       "    .dataframe thead th {\n",
       "        text-align: right;\n",
       "    }\n",
       "</style>\n",
       "<table border=\"1\" class=\"dataframe\">\n",
       "  <thead>\n",
       "    <tr style=\"text-align: right;\">\n",
       "      <th></th>\n",
       "      <th>weights</th>\n",
       "    </tr>\n",
       "  </thead>\n",
       "  <tbody>\n",
       "    <tr>\n",
       "      <th>1</th>\n",
       "      <td>5.0</td>\n",
       "    </tr>\n",
       "    <tr>\n",
       "      <th>2</th>\n",
       "      <td>1.0</td>\n",
       "    </tr>\n",
       "    <tr>\n",
       "      <th>3</th>\n",
       "      <td>1.0</td>\n",
       "    </tr>\n",
       "    <tr>\n",
       "      <th>4</th>\n",
       "      <td>1.0</td>\n",
       "    </tr>\n",
       "    <tr>\n",
       "      <th>5</th>\n",
       "      <td>1.0</td>\n",
       "    </tr>\n",
       "    <tr>\n",
       "      <th>6</th>\n",
       "      <td>1.0</td>\n",
       "    </tr>\n",
       "  </tbody>\n",
       "</table>\n",
       "</div>"
      ],
      "text/plain": [
       "   weights\n",
       "1      5.0\n",
       "2      1.0\n",
       "3      1.0\n",
       "4      1.0\n",
       "5      1.0\n",
       "6      1.0"
      ]
     },
     "execution_count": 20,
     "metadata": {},
     "output_type": "execute_result"
    }
   ],
   "source": [
    "#Create unfair die with face 1 with a weight of 5\n",
    "Die2.weight_update(1, 5)\n",
    "Die2.die()"
   ]
  },
  {
   "cell_type": "markdown",
   "id": "f0ed31cb-0a3c-4eb2-b85e-6ed6b2eb6e58",
   "metadata": {},
   "source": [
    "Task 4. Play a game of $10000$ rolls with $5$ fair dice.\n",
    "\n",
    "- Game class properly instantiated (1). \n",
    "- Play method called properly (1)."
   ]
  },
  {
   "cell_type": "code",
   "execution_count": 28,
   "id": "e92395a4-9ed8-4cb0-8c85-38768a784ffc",
   "metadata": {},
   "outputs": [],
   "source": [
    "#Create game object with 5 fair dice\n",
    "die_list_5fair = [Die3, Die3, Die3, Die3, Die3]\n",
    "game_fair5 = montecarlo.Game(die_list_5fair)\n",
    "\n",
    "#Call the play method with 10000 rolls\n",
    "game_fair5.play(10000)"
   ]
  },
  {
   "cell_type": "markdown",
   "id": "7814b402-46a4-40e5-8141-20e05c3e646b",
   "metadata": {},
   "source": [
    "Task 5. Play another game of $10000$ rolls, this time with $2$ unfair dice, one as defined in steps #2 and #3 respectively, and $3$ fair dice.\n",
    "\n",
    "- Game class properly instantiated (1). \n",
    "- Play method called properly (1)."
   ]
  },
  {
   "cell_type": "code",
   "execution_count": 45,
   "id": "7cd58fba-b2a5-4d5d-bc6d-2a7a68d18c4f",
   "metadata": {},
   "outputs": [],
   "source": [
    "#Create game object with 2 unfair dice and 3 fair dice\n",
    "die_list_2unfair_3fair = [Die1, Die2, Die3, Die3, Die3]\n",
    "game_2unfair_3fair = montecarlo.Game(die_list_2unfair_3fair)\n",
    "\n",
    "#Call the play method with 10000 rolls\n",
    "game_2unfair_3fair.play(10000)"
   ]
  },
  {
   "cell_type": "markdown",
   "id": "7b6cd372-2bb8-4df8-ade1-8f48bc300955",
   "metadata": {},
   "source": [
    "Task 6. For each game, use an Analyzer object to determine the relative frequency of jackpots and show your results, comparing the two relative frequencies, in a simple bar chart.\n",
    "\n",
    "- Jackpot methods called (1).\n",
    "- Graph produced (1)."
   ]
  },
  {
   "cell_type": "code",
   "execution_count": 46,
   "id": "bbdcf695-8937-406e-9b53-aa0b9ee3c59a",
   "metadata": {},
   "outputs": [
    {
     "data": {
      "text/plain": [
       "Text(0, 0.5, 'Relative Frequency')"
      ]
     },
     "execution_count": 46,
     "metadata": {},
     "output_type": "execute_result"
    },
    {
     "data": {
      "image/png": "[encoded data removed]",
      "text/plain": [
       "<Figure size 640x480 with 1 Axes>"
      ]
     },
     "metadata": {},
     "output_type": "display_data"
    }
   ],
   "source": [
    "import matplotlib.pyplot as plot\n",
    "\n",
    "#Create Analyzer objects for both game objects\n",
    "fair_analyze5 = montecarlo.Analyzer(game_fair5)\n",
    "unfair_analyze5 = montecarlo.Analyzer(game_2unfair_3fair)\n",
    "\n",
    "#Create relative frequencies of jackpots\n",
    "fair_freq5 = fair_analyze5.jackpot()/len(game_fair5.play_output)\n",
    "unfair_freq5 = unfair_analyze5.jackpot()/len(game_2unfair_3fair.play_output)\n",
    "\n",
    "#Plot relative frequencies in a bar chart\n",
    "freqs2 = list([fair_freq5, unfair_freq5])\n",
    "plot.bar([\"Fair Game\", \"Unfair Game\"], freqs2)\n",
    "plot.ylabel(\"Relative Frequency\")"
   ]
  },
  {
   "cell_type": "markdown",
   "id": "9f04e9be-8fcf-4ea4-a391-6614608285f8",
   "metadata": {},
   "source": [
    "## Scenario 3: Letters of the Alphabet (7)\n",
    "\n",
    "Task 1. Create a \"die\" of letters from $A$ to $Z$ with weights based on their frequency of usage as found in the data file `english_letters.txt`. Use the frequencies (i.e. raw counts) as weights.\n",
    "\n",
    "- Die correctly instantiated with source file data (1).\n",
    "- Weights properly applied using weight setting method (1)."
   ]
  },
  {
   "cell_type": "code",
   "execution_count": 47,
   "id": "b0ceb771-3cdf-4d8f-8c2c-020806bbb909",
   "metadata": {},
   "outputs": [],
   "source": [
    "#Read in english_letters txt file\n",
    "letters = pd.read_table(\"english_letters.txt\", header=None, delimiter = \" \")\n",
    "sorted_letters = \\\n",
    "letters.sort_values(by=letters.columns[0]).reset_index(drop=True)\n",
    "\n",
    "#Create numpy array with letters from txt file\n",
    "letters_array = np.array((sorted_letters[0])).astype('str')\n",
    "\n",
    "#Create die object with letters\n",
    "Die_Letters = montecarlo.Die(letters_array)\n",
    "\n",
    "#Update weights with frequencies\n",
    "for i in range(len(sorted_letters)):\n",
    "    Die_Letters.weight_update(sorted_letters.iloc[i,0], \\\n",
    "                              sorted_letters.iloc[i,1])\n"
   ]
  },
  {
   "cell_type": "markdown",
   "id": "88e2e14a-6223-470a-a2c8-bca1120d7a5b",
   "metadata": {},
   "source": [
    "Task 2. Play a game involving $4$ of these dice with $1000$ rolls.\n",
    "\n",
    "- Game play method properly called (1)."
   ]
  },
  {
   "cell_type": "code",
   "execution_count": 48,
   "id": "2ae087cc-936d-4f1e-bddb-a7c179d139e0",
   "metadata": {},
   "outputs": [],
   "source": [
    "#Create game object with 4 of the letters Die objects\n",
    "die_list_letters = [Die_Letters, Die_Letters, Die_Letters, Die_Letters]\n",
    "game_letters = montecarlo.Game(die_list_letters)\n",
    "\n",
    "#Call the play method with 1000 rolls\n",
    "game_letters.play(1000)"
   ]
  },
  {
   "cell_type": "markdown",
   "id": "3b9ff800-bf1f-4f66-9d7f-ff57a648e9f0",
   "metadata": {},
   "source": [
    "Task 3. Determine how many permutations in your results are actual English words, based on the vocabulary found in `scrabble_words.txt`.\n",
    "\n",
    "- Use permutation method (1).\n",
    "- Get count as difference between permutations and vocabulary (1)."
   ]
  },
  {
   "cell_type": "code",
   "execution_count": 49,
   "id": "ed1c7fa0-cfa3-4cf4-9fd0-9f84b86b0f64",
   "metadata": {},
   "outputs": [
    {
     "data": {
      "text/plain": [
       "56"
      ]
     },
     "execution_count": 49,
     "metadata": {},
     "output_type": "execute_result"
    }
   ],
   "source": [
    "#Create Analyzer object\n",
    "letters_analyze = montecarlo.Analyzer(game_letters)\n",
    "\n",
    "#Call permutations method\n",
    "permutations = letters_analyze.perm()\n",
    "\n",
    "#Read in scrabble_words txt file\n",
    "scrabble = pd.read_table(\"scrabble_words.txt\", header=None)\n",
    "\n",
    "#Strings of permutations multiindex\n",
    "perms2 = permutations.reset_index()\n",
    "perms2[\"string_col\"] = perms2[\"level_0\"].astype(str)+ \\\n",
    "perms2[\"level_1\"].astype(str)+ \\\n",
    "perms2[\"level_2\"].astype(str)+perms2[\"level_3\"].astype(str)\n",
    "\n",
    "#Align column names\n",
    "scrabble = scrabble.rename(columns={scrabble.columns[0]: \"string_col\"})\n",
    "\n",
    "#Inner merge dataframes to get matches of vocabulary to permutations\n",
    "matches = pd.merge(perms2, scrabble, on='string_col', how='inner')\n",
    "\n",
    "#Len of matches df is count of vocab words from permutations method\n",
    "len(matches)"
   ]
  },
  {
   "cell_type": "markdown",
   "id": "fcf068cf-381a-4b3e-ac3a-0510eb4dbdb0",
   "metadata": {},
   "source": [
    "Task 4. Repeat steps #2 and #3, this time with $5$ dice. How many actual words does this produce? Which produces more?\n",
    "\n",
    "- Successfully repreats steps (1).\n",
    "- Identifies parameter with most found words (1)."
   ]
  },
  {
   "cell_type": "code",
   "execution_count": 50,
   "id": "e3198f94-635b-4304-88e9-bfcea5d0cf5a",
   "metadata": {},
   "outputs": [
    {
     "name": "stdout",
     "output_type": "stream",
     "text": [
      "The 5 letter permutations method produces 11 actual words. The 4 letter permutations method produces more actual words.\n"
     ]
    }
   ],
   "source": [
    "#Create game object with 5 of the letters Die objects\n",
    "die_list_letters5 = [Die_Letters, Die_Letters, Die_Letters, \n",
    "                     Die_Letters, Die_Letters]\n",
    "game_letters5 = montecarlo.Game(die_list_letters5)\n",
    "\n",
    "#Call the play method with 1000 rolls\n",
    "game_letters5.play(1000)\n",
    "\n",
    "#Create Analyzer object\n",
    "letters_analyze5 = montecarlo.Analyzer(game_letters5)\n",
    "\n",
    "#Call permutations method\n",
    "permutations5 = letters_analyze5.perm()\n",
    "\n",
    "#Strings of permutations multiindex\n",
    "perms5 = permutations5.reset_index()\n",
    "perms5[\"string_col\"] = perms5[\"level_0\"].astype(str)+ \\\n",
    "perms5[\"level_1\"].astype(str)+ \\\n",
    "perms5[\"level_2\"].astype(str)+perms5[\"level_3\"].astype(str)+ \\\n",
    "perms5[\"level_4\"].astype(str)\n",
    "\n",
    "#Inner merge dataframes to get matches of vocabulary to permutations\n",
    "matches5 = pd.merge(perms5, scrabble, on='string_col', how='inner')\n",
    "\n",
    "#Len of matches df is count of vocab words from the permutations method\n",
    "matches_count5 = len(matches5)\n",
    "\n",
    "print(\"The 5 letter permutations method produces\", matches_count5, \\\n",
    "      \"actual words. \" \\\n",
    "      \"The 4 letter permutations method produces more actual words.\")"
   ]
  },
  {
   "cell_type": "markdown",
   "id": "c278a60d-a4dd-48df-8317-650185f7f0ca",
   "metadata": {},
   "source": [
    "# Submission"
   ]
  },
  {
   "cell_type": "markdown",
   "id": "a2b34ea0-96d3-4e0a-ac65-00a1cf287008",
   "metadata": {},
   "source": [
    "When finished completing the above tasks, save this file to your local repo (and within your project), and them push it to your GitHub repo.\n",
    "\n",
    "Then convert this file to a PDF and submit it to GradeScope according to the assignment instructions in Canvas."
   ]
  }
 ],
 "metadata": {
  "kernelspec": {
   "display_name": "Python 3 (ipykernel)",
   "language": "python",
   "name": "python3"
  },
  "language_info": {
   "codemirror_mode": {
    "name": "ipython",
    "version": 3
   },
   "file_extension": ".py",
   "mimetype": "text/x-python",
   "name": "python",
   "nbconvert_exporter": "python",
   "pygments_lexer": "ipython3",
   "version": "3.11.4"
  },
  "toc-autonumbering": true,
  "widgets": {
   "application/vnd.jupyter.widget-state+json": {
    "state": {},
    "version_major": 2,
    "version_minor": 0
   }
  }
 },
 "nbformat": 4,
 "nbformat_minor": 5
}
